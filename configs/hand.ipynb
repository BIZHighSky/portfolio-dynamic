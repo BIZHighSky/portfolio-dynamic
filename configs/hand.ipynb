{
 "cells": [
  {
   "cell_type": "code",
   "execution_count": 1,
   "id": "d020eb74",
   "metadata": {},
   "outputs": [],
   "source": [
    "from collections import defaultdict\n",
    "from datetime import datetime, timedelta\n",
    "import os\n",
    "\n",
    "import yaml\n",
    "\n",
    "from clickhouse_driver import Client\n",
    "\n",
    "#from src.cg import CoinGeckoAPI\n",
    "#from src.handle_portfolio import get_coin_date_out, get_coin_date_enter, get_date_lst_coins\n",
    "#from src.get_data import get_current_price_vol_cg, GetRawData, query_get_coins_volume_per_day, get_ndau_cur_day\n",
    "#from src.calc_metrics import (\n",
    "#    percentage_wrt_portfolio, postprocess_metric, iterator_window_df,\n",
    "#    roi_enter, get_corr, get_beta, history_diff_trend\n",
    "#)\n",
    "#from src.google_sheet import write_df, write_update_time, write_data_to_gs_no_resize\n",
    "\n",
    "from tqdm.notebook import tqdm\n",
    "\n",
    "from sklearn.linear_model import LinearRegression\n",
    "import pandas as pd\n",
    "import numpy as np\n",
    "import pygsheets\n",
    "import scipy\n",
    "from scipy import stats\n",
    "\n",
    "\n",
    "\n",
    "from datetime import datetime, timedelta\n",
    "import time"
   ]
  },
  {
   "cell_type": "code",
   "execution_count": 2,
   "id": "6ceb1364",
   "metadata": {},
   "outputs": [],
   "source": [
    "def get_config(\n",
    "        path_dir_main_config: str,\n",
    "        path_sensitive_config: str\n",
    "):\n",
    "    path_main_config = os.path.join(path_dir_main_config, 'config.yaml')\n",
    "    path_input_csv = os.path.join(path_dir_main_config, 'input.csv')\n",
    "    \n",
    "    with open(path_main_config,'r') as stream:\n",
    "        main_config = yaml.safe_load(stream)\n",
    "\n",
    "    with open(path_sensitive_config,'r') as stream:\n",
    "        conf = yaml.safe_load(stream)\n",
    "        cli_creds = conf['clickhouse']\n",
    "        cg_api_key = conf['cg-api-key']\n",
    "    \n",
    "    input_p = pd.read_csv(path_input_csv)\n",
    "    input_p = input_p.set_index('coingecko_id')\n",
    "    return input_p, main_config, cli_creds, cg_api_key\n",
    "\n",
    "\n",
    "def setup_logging():\n",
    "    file_path = os.path.dirname(__file__)\n",
    "    logging.basicConfig(\n",
    "        filename=os.path.join(file_path, \"main.log\"),\n",
    "        filemode='a',\n",
    "        level=logging.INFO,\n",
    "        format='%(asctime)s %(levelname)-8s %(message)s',\n",
    "        datefmt='%Y-%m-%d %H:%M:%S'\n",
    "    )\n",
    "    \n",
    "def get_enter_prices(input_c):\n",
    "    buy_prices_usdt = input_p['price_USDT'].to_dict()\n",
    "    buy_prices_btc = input_p['price_BTC'].to_dict()\n",
    "    buy_prices_eth = input_p['price_ETH'].to_dict()\n",
    "    return buy_prices_usdt, buy_prices_btc, buy_prices_eth\n",
    "\n",
    "def get_info(input_c):\n",
    "    info = input_p[['ticker', 'price_USDT', 'price_BTC', 'price_ETH', 'amount_usdt', 'dt']] #.set_index('ticker')\n",
    "    return info"
   ]
  },
  {
   "cell_type": "code",
   "execution_count": 5,
   "id": "1a9eb96b",
   "metadata": {},
   "outputs": [
    {
     "ename": "FileNotFoundError",
     "evalue": "[Errno 2] No such file or directory: 'configs/config_5_25_03_2023/config.yaml'",
     "output_type": "error",
     "traceback": [
      "\u001b[0;31m---------------------------------------------------------------------------\u001b[0m",
      "\u001b[0;31mFileNotFoundError\u001b[0m                         Traceback (most recent call last)",
      "\u001b[0;32m<ipython-input-5-44564f27dfbf>\u001b[0m in \u001b[0;36m<module>\u001b[0;34m\u001b[0m\n\u001b[0;32m----> 1\u001b[0;31m \u001b[0minput_p\u001b[0m\u001b[0;34m,\u001b[0m \u001b[0mmain_config\u001b[0m\u001b[0;34m,\u001b[0m \u001b[0mcli_creds\u001b[0m\u001b[0;34m,\u001b[0m \u001b[0mcg_api_key\u001b[0m \u001b[0;34m=\u001b[0m \u001b[0mget_config\u001b[0m\u001b[0;34m(\u001b[0m\u001b[0;34m'configs/config_5_25_03_2023/'\u001b[0m\u001b[0;34m,\u001b[0m \u001b[0;34m'configs/sensitive.yaml'\u001b[0m\u001b[0;34m)\u001b[0m\u001b[0;34m\u001b[0m\u001b[0;34m\u001b[0m\u001b[0m\n\u001b[0m",
      "\u001b[0;32m<ipython-input-2-451cacf4225d>\u001b[0m in \u001b[0;36mget_config\u001b[0;34m(path_dir_main_config, path_sensitive_config)\u001b[0m\n\u001b[1;32m      6\u001b[0m     \u001b[0mpath_input_csv\u001b[0m \u001b[0;34m=\u001b[0m \u001b[0mos\u001b[0m\u001b[0;34m.\u001b[0m\u001b[0mpath\u001b[0m\u001b[0;34m.\u001b[0m\u001b[0mjoin\u001b[0m\u001b[0;34m(\u001b[0m\u001b[0mpath_dir_main_config\u001b[0m\u001b[0;34m,\u001b[0m \u001b[0;34m'input.csv'\u001b[0m\u001b[0;34m)\u001b[0m\u001b[0;34m\u001b[0m\u001b[0;34m\u001b[0m\u001b[0m\n\u001b[1;32m      7\u001b[0m \u001b[0;34m\u001b[0m\u001b[0m\n\u001b[0;32m----> 8\u001b[0;31m     \u001b[0;32mwith\u001b[0m \u001b[0mopen\u001b[0m\u001b[0;34m(\u001b[0m\u001b[0mpath_main_config\u001b[0m\u001b[0;34m,\u001b[0m\u001b[0;34m'r'\u001b[0m\u001b[0;34m)\u001b[0m \u001b[0;32mas\u001b[0m \u001b[0mstream\u001b[0m\u001b[0;34m:\u001b[0m\u001b[0;34m\u001b[0m\u001b[0;34m\u001b[0m\u001b[0m\n\u001b[0m\u001b[1;32m      9\u001b[0m         \u001b[0mmain_config\u001b[0m \u001b[0;34m=\u001b[0m \u001b[0myaml\u001b[0m\u001b[0;34m.\u001b[0m\u001b[0msafe_load\u001b[0m\u001b[0;34m(\u001b[0m\u001b[0mstream\u001b[0m\u001b[0;34m)\u001b[0m\u001b[0;34m\u001b[0m\u001b[0;34m\u001b[0m\u001b[0m\n\u001b[1;32m     10\u001b[0m \u001b[0;34m\u001b[0m\u001b[0m\n",
      "\u001b[0;31mFileNotFoundError\u001b[0m: [Errno 2] No such file or directory: 'configs/config_5_25_03_2023/config.yaml'"
     ]
    }
   ],
   "source": [
    "input_p, main_config, cli_creds, cg_api_key = get_config('config_5_25_03_2023/', 'configs/sensitive.yaml')"
   ]
  },
  {
   "cell_type": "code",
   "execution_count": null,
   "id": "d60df5e6",
   "metadata": {},
   "outputs": [],
   "source": []
  }
 ],
 "metadata": {
  "kernelspec": {
   "display_name": "main",
   "language": "python",
   "name": "main"
  },
  "language_info": {
   "codemirror_mode": {
    "name": "ipython",
    "version": 3
   },
   "file_extension": ".py",
   "mimetype": "text/x-python",
   "name": "python",
   "nbconvert_exporter": "python",
   "pygments_lexer": "ipython3",
   "version": "3.8.5"
  }
 },
 "nbformat": 4,
 "nbformat_minor": 5
}
